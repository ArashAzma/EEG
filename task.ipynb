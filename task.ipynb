{
  "cells": [
    {
      "cell_type": "code",
      "execution_count": 52,
      "metadata": {},
      "outputs": [],
      "source": [
        "import torch\n",
        "from torch.utils.data import DataLoader, Dataset\n",
        "import numpy as np\n",
        "import os\n",
        "from sklearn.model_selection import train_test_split"
      ]
    },
    {
      "cell_type": "markdown",
      "metadata": {},
      "source": [
        "### Dataset"
      ]
    },
    {
      "cell_type": "code",
      "execution_count": 3,
      "metadata": {},
      "outputs": [],
      "source": [
        "device = torch.device(\"cuda\")\n",
        "\n",
        "BATCH_SIZE = 64"
      ]
    },
    {
      "cell_type": "code",
      "execution_count": 4,
      "metadata": {},
      "outputs": [],
      "source": [
        "def prepare_data(data_path='EEG_Data', sample_rate = 2):\n",
        "    X = []\n",
        "    Y = []\n",
        "\n",
        "    sw = 0\n",
        "    for dir in os.listdir(data_path):\n",
        "        folder_path = os.path.join(data_path, dir)\n",
        "        for file in os.listdir(folder_path):\n",
        "            if sw != sample_rate:\n",
        "                sw+=1\n",
        "                continue\n",
        "            file_path = os.path.join(folder_path, file)\n",
        "            spectrogram = np.load(file_path)\n",
        "            X.append(spectrogram)\n",
        "            Y.append(int(dir))\n",
        "            sw=0\n",
        "            \n",
        "    X = np.array(X)\n",
        "    Y = np.array(Y)\n",
        "    \n",
        "    X_train, X_temp, y_train, y_temp = train_test_split(X, Y, test_size=0.3, random_state=42)\n",
        "    X_val, X_test, y_val, y_test = train_test_split(X_temp, y_temp, test_size=0.5, random_state=42)\n",
        "    \n",
        "    return X_train, X_val, X_test, y_train, y_val, y_test"
      ]
    },
    {
      "cell_type": "code",
      "execution_count": 30,
      "metadata": {},
      "outputs": [],
      "source": [
        "class EEG_Dataset(Dataset):\n",
        "    def __init__(self, X, Y):\n",
        "        \n",
        "        self.X = X\n",
        "        self.Y = Y\n",
        "        self.X = torch.FloatTensor(X)\n",
        "        self.Y = torch.LongTensor(Y)\n",
        "\n",
        "    def __len__(self):\n",
        "        return len(self.X)\n",
        "\n",
        "    def __getitem__(self, idx):\n",
        "        x = self.X[idx].squeeze()\n",
        "        x = x.unsqueeze(0)\n",
        "        return x.to(device), self.Y[idx].to(device)"
      ]
    },
    {
      "cell_type": "code",
      "execution_count": 31,
      "metadata": {},
      "outputs": [],
      "source": [
        "X_train, X_val, X_test, y_train, y_val, y_test = prepare_data()"
      ]
    },
    {
      "cell_type": "code",
      "execution_count": 32,
      "metadata": {},
      "outputs": [],
      "source": [
        "train_dataset = EEG_Dataset(X_train, y_train)\n",
        "val_dataset = EEG_Dataset(X_val, y_val)\n",
        "test_dataset = EEG_Dataset(X_test, y_test)"
      ]
    },
    {
      "cell_type": "code",
      "execution_count": 33,
      "metadata": {},
      "outputs": [],
      "source": [
        "train_loader = DataLoader(train_dataset, batch_size=64, shuffle=True)\n",
        "val_loader = DataLoader(val_dataset, batch_size=64, shuffle=False)\n",
        "test_loader = DataLoader(test_dataset, batch_size=64, shuffle=False)"
      ]
    },
    {
      "cell_type": "markdown",
      "metadata": {},
      "source": [
        "## Model"
      ]
    },
    {
      "cell_type": "code",
      "execution_count": 57,
      "metadata": {},
      "outputs": [],
      "source": [
        "import torch.nn as nn\n",
        "\n",
        "class SpectrogramCNN(nn.Module):\n",
        "    def __init__(self):\n",
        "        super().__init__()\n",
        "        self.conv1 = nn.Conv2d(1, 16, kernel_size=3)\n",
        "        self.bn1 = nn.BatchNorm2d(16)\n",
        "        self.conv2 = nn.Conv2d(16, 32, kernel_size=3, padding=1)\n",
        "        self.bn2 = nn.BatchNorm2d(32)\n",
        "        self.conv3 = nn.Conv2d(32, 64, kernel_size=3, padding=1)\n",
        "        self.bn3 = nn.BatchNorm2d(64)\n",
        "        self.pool = nn.MaxPool2d(2, 2)\n",
        "        \n",
        "        self.fc1 = nn.Linear(64 * 6 * 7, 512)\n",
        "        self.bn4 = nn.BatchNorm1d(512)\n",
        "        self.fc2 = nn.Linear(512, 5) \n",
        "        \n",
        "        self.dropout = nn.Dropout(0.5)\n",
        "        \n",
        "    def forward(self, x):\n",
        "        x = self.conv1(x)\n",
        "        x = self.bn1(x)\n",
        "        x = torch.relu(x)\n",
        "        x = self.pool(x)\n",
        "        \n",
        "        x = self.conv2(x)\n",
        "        x = self.bn2(x)\n",
        "        x = torch.relu(x)\n",
        "        x = self.pool(x)\n",
        "        \n",
        "        x = self.conv3(x)\n",
        "        x = self.bn3(x)\n",
        "        x = torch.relu(x)\n",
        "        x = self.pool(x)\n",
        "        \n",
        "        x = x.view(-1, 64 * 6 * 7) \n",
        "        x = self.fc1(x)\n",
        "        x = self.bn4(x)\n",
        "        x = torch.relu(x)\n",
        "        x = self.dropout(x)\n",
        "        \n",
        "        x = self.fc2(x)\n",
        "        return x"
      ]
    },
    {
      "cell_type": "code",
      "execution_count": 58,
      "metadata": {},
      "outputs": [],
      "source": [
        "model = SpectrogramCNN().to(device)\n",
        "xx1 = train_dataset[0][0].unsqueeze(0)\n",
        "xx2 = train_dataset[1][0].unsqueeze(0)\n",
        "xx = torch.cat((xx1, xx2), dim=0)\n",
        "xx.shape\n",
        "yy = torch.cat((train_dataset[0][1].unsqueeze(0), train_dataset[1][1].unsqueeze(0)), dim=0)"
      ]
    },
    {
      "cell_type": "code",
      "execution_count": 61,
      "metadata": {},
      "outputs": [
        {
          "name": "stdout",
          "output_type": "stream",
          "text": [
            "Training Loss: 0.00000012\n",
            "Training Loss: 0.00000000\n",
            "Training Loss: 0.00000000\n",
            "Training Loss: 0.00000000\n",
            "Training Loss: 0.00000000\n",
            "Training Loss: 0.00000000\n",
            "Training Loss: 0.00000000\n",
            "Training Loss: 0.00000000\n",
            "Training Loss: 0.00000000\n",
            "Training Loss: 0.00000000\n"
          ]
        }
      ],
      "source": [
        "criterion = nn.CrossEntropyLoss()\n",
        "optimizer = torch.optim.Adam(model.parameters(), lr=0.001)\n",
        "n_epochs = 1000\n",
        "\n",
        "for epoch in range(n_epochs):\n",
        "    model.train()\n",
        "    train_loss = 0\n",
        "    \n",
        "    optimizer.zero_grad()\n",
        "    outputs = model(xx)\n",
        "    loss = criterion(outputs, yy)\n",
        "    loss.backward()\n",
        "    optimizer.step()\n",
        "    \n",
        "    if epoch % 100 == 0:\n",
        "        print(f'Training Loss: {loss.item():.8f}')"
      ]
    }
  ],
  "metadata": {
    "colab": {
      "provenance": []
    },
    "kernelspec": {
      "display_name": "Python 3",
      "name": "python3"
    },
    "language_info": {
      "codemirror_mode": {
        "name": "ipython",
        "version": 3
      },
      "file_extension": ".py",
      "mimetype": "text/x-python",
      "name": "python",
      "nbconvert_exporter": "python",
      "pygments_lexer": "ipython3",
      "version": "3.11.9"
    }
  },
  "nbformat": 4,
  "nbformat_minor": 0
}
