{
  "cells": [
    {
      "cell_type": "code",
      "execution_count": 3,
      "metadata": {},
      "outputs": [],
      "source": [
        "import numpy as np"
      ]
    },
    {
      "cell_type": "code",
      "execution_count": 6,
      "metadata": {},
      "outputs": [
        {
          "name": "stdout",
          "output_type": "stream",
          "text": [
            "Array data: [[[2.39291960e-06]\n",
            "  [2.95876372e-06]\n",
            "  [1.73152924e-06]\n",
            "  ...\n",
            "  [1.13278249e-05]\n",
            "  [3.44827929e-06]\n",
            "  [6.62901109e-06]]\n",
            "\n",
            " [[7.14166373e-06]\n",
            "  [7.52509948e-06]\n",
            "  [1.24940841e-06]\n",
            "  ...\n",
            "  [7.60697177e-06]\n",
            "  [1.14708530e-05]\n",
            "  [5.74254469e-06]]\n",
            "\n",
            " [[2.21119028e-06]\n",
            "  [5.94065952e-06]\n",
            "  [4.40402931e-06]\n",
            "  ...\n",
            "  [3.40979912e-06]\n",
            "  [8.75574838e-06]\n",
            "  [1.87342256e-06]]\n",
            "\n",
            " ...\n",
            "\n",
            " [[2.80327908e-07]\n",
            "  [1.58332101e-07]\n",
            "  [1.24798507e-07]\n",
            "  ...\n",
            "  [2.72863714e-07]\n",
            "  [1.58232986e-07]\n",
            "  [3.57863613e-08]]\n",
            "\n",
            " [[2.40712227e-07]\n",
            "  [1.33468023e-07]\n",
            "  [1.37124951e-07]\n",
            "  ...\n",
            "  [1.89834042e-07]\n",
            "  [1.12209757e-07]\n",
            "  [1.12739671e-07]]\n",
            "\n",
            " [[7.87041923e-08]\n",
            "  [2.03010218e-07]\n",
            "  [7.80406305e-08]\n",
            "  ...\n",
            "  [2.00572794e-08]\n",
            "  [5.65849004e-08]\n",
            "  [1.11799149e-07]]]\n"
          ]
        }
      ],
      "source": [
        "\n",
        "array = np.load(\"EEG_Data//0//101-0.npy\")\n",
        "\n",
        "print(array)\n"
      ]
    }
  ],
  "metadata": {
    "colab": {
      "provenance": []
    },
    "kernelspec": {
      "display_name": "Python 3",
      "name": "python3"
    },
    "language_info": {
      "codemirror_mode": {
        "name": "ipython",
        "version": 3
      },
      "file_extension": ".py",
      "mimetype": "text/x-python",
      "name": "python",
      "nbconvert_exporter": "python",
      "pygments_lexer": "ipython3",
      "version": "3.11.9"
    }
  },
  "nbformat": 4,
  "nbformat_minor": 0
}
